{
 "cells": [
  {
   "cell_type": "markdown",
   "metadata": {},
   "source": [
    "In this notebook we use publicly available health care data to illustrate the use of some python libraries. We will plot health care expenditure per municipality and how health care varies with age. In the process you will see how libraries like pandas and matplotlib work.\n",
    "\n"
   ]
  },
  {
   "cell_type": "markdown",
   "metadata": {},
   "source": [
    "\n",
    "# Health care expenditures per municipality\n",
    "\n"
   ]
  },
  {
   "cell_type": "markdown",
   "metadata": {},
   "source": [
    "We start with health care data on the level of municipalities. We will plot how health care expenditure varies with location.\n",
    "\n",
    "Some institutional background:\n",
    "\n",
    "-   in the Netherlands health insurance is mandatory\n",
    "-   people aged 18 or older face a deductible of 365 euros in 2014; no deductible for people below 18\n",
    "-   the deductible applies to a number of cost categories in the \"basic packages\"; see below\n",
    "-   people can &#x2013;voluntarily&#x2013; increase their deductible with 100, 200, 300, 400 or 500 euro; but our data has no information on this\n",
    "\n"
   ]
  },
  {
   "cell_type": "markdown",
   "metadata": {},
   "source": [
    "\n",
    "## loading the data\n",
    "\n"
   ]
  },
  {
   "cell_type": "markdown",
   "metadata": {},
   "source": [
    "The following code block loads the data. We use data from [Vektis](http://www.vektis.nl/index.php/vektis-open-data). We import the data, which is a 'csv' file with \";\" as separator between columns. We also import the pandas library.\n",
    "\n",
    "Then we inspect the first ten rows of our data set.\n",
    "\n"
   ]
  },
  {
   "cell_type": "code",
   "execution_count": 1,
   "metadata": {
    "collapsed": true
   },
   "outputs": [],
   "source": [
    "# First lets clear all previous python imports and variables by resetting the python kernel.\n",
    "%reset -f\n",
    "\n",
    "\n",
    "import pandas as pd\n",
    "\n",
    "df_gemeente = pd.read_csv('Vektis_Open_Databestand_Zorgverzekeringswet_2014_-_gemeente.csv', sep = ';')\n",
    "\n",
    "df_gemeente.head(10)"
   ]
  },
  {
   "cell_type": "markdown",
   "metadata": {},
   "source": [
    "GESLACHT LEEFTIJDSKLASSE   GEMEENTENAAM  AANTAL\\_BSN  AANTAL\\_VERZEKERDEJAREN  \\\\\n",
    "0      NaN             NaN            NaN      298383               185664.92   \n",
    "1        M   0 t/m  4 jaar    AA EN HUNZE         507                  468.83   \n",
    "2        M   0 t/m  4 jaar        AALBURG         428                  387.28   \n",
    "3        M   0 t/m  4 jaar       AALSMEER         876                  790.65   \n",
    "4        M   0 t/m  4 jaar         AALTEN         667                  600.00   \n",
    "5        M   0 t/m  4 jaar  ACHTKARSPELEN         810                  737.03   \n",
    "6        M   0 t/m  4 jaar   ALBLASSERDAM         637                  561.21   \n",
    "7        M   0 t/m  4 jaar  ALBRANDSWAARD         735                  663.22   \n",
    "8        M   0 t/m  4 jaar        ALKMAAR        2967                 2660.93   \n",
    "9        M   0 t/m  4 jaar         ALMELO        1906                 1714.63   \n",
    "\n",
    "   KOSTEN\\_MEDISCH\\_SPECIALISTISCHE\\_ZORG  KOSTEN\\_FARMACIE  \\\\\n",
    "0                          48661669.94       9219422.33   \n",
    "1                            473370.77         43305.49   \n",
    "2                            340442.37         23395.86   \n",
    "3                            932841.57         54597.52   \n",
    "4                            515879.78         43516.71   \n",
    "5                            766456.80         88084.16   \n",
    "6                           1252440.29        140225.60   \n",
    "7                            927635.48        114174.07   \n",
    "8                           4005510.06        258936.51   \n",
    "9                           3518922.31        254976.19   \n",
    "\n",
    "   KOSTEN\\_TWEEDELIJNS\\_GGZ  KOSTEN\\_HUISARTS\\_INSCHRIJFTARIEF  \\\\\n",
    "0              7475481.90                       4092492.35   \n",
    "1                14056.81                         26239.56   \n",
    "2                 5555.83                         21673.15   \n",
    "3                34355.66                         43971.27   \n",
    "4                 2404.19                         33749.10   \n",
    "5                 6681.81                         41477.79   \n",
    "6                 9715.96                         30705.39   \n",
    "7                 2043.52                         37028.38   \n",
    "8                22599.87                        147227.49   \n",
    "9                87437.11                         96757.71   \n",
    "\n",
    "   KOSTEN\\_HUISARTS\\_CONSULT      &#x2026;        KOSTEN\\_PARAMEDISCHE\\_ZORG\\_OVERIG  \\\\\n",
    "0               1388439.07      &#x2026;                              290539.66   \n",
    "1                 12829.29      &#x2026;                               13783.67   \n",
    "2                  9417.98      &#x2026;                               15297.60   \n",
    "3                 22413.37      &#x2026;                               14105.95   \n",
    "4                 18472.64      &#x2026;                               31816.27   \n",
    "5                 19157.34      &#x2026;                               30454.49   \n",
    "6                 15936.39      &#x2026;                               19202.75   \n",
    "7                 21611.09      &#x2026;                               30449.94   \n",
    "8                 71141.10      &#x2026;                               67205.26   \n",
    "9                 51693.62      &#x2026;                               81595.14   \n",
    "\n",
    "   KOSTEN\\_ZIEKENVERVOER\\_ZITTEND  KOSTEN\\_ZIEKENVERVOER\\_LIGGEND  \\\\\n",
    "0                     210313.33                    1398151.05   \n",
    "1                        638.08                       5004.86   \n",
    "2                        315.06                       6155.09   \n",
    "3                          0.00                      20465.44   \n",
    "4                       1173.82                       6282.28   \n",
    "5                        204.30                      17011.84   \n",
    "6                          0.00                      11421.05   \n",
    "7                          0.00                      13027.62   \n",
    "8                       4086.51                      70806.48   \n",
    "9                       7742.31                      32328.75   \n",
    "\n",
    "   KOSTEN\\_KRAAMZORG  KOSTEN\\_VERLOSKUNDIGE\\_ZORG  \\\\\n",
    "0         1286545.5                 1072906.37   \n",
    "1               0.0                       0.00   \n",
    "2               0.0                       0.00   \n",
    "3               0.0                       0.00   \n",
    "4               0.0                       0.00   \n",
    "5               0.0                       0.00   \n",
    "6               0.0                       0.00   \n",
    "7               0.0                       0.00   \n",
    "8               0.0                       0.00   \n",
    "9               0.0                       0.00   \n",
    "\n",
    "   KOSTEN\\_GENERALISTISCHE\\_BASIS\\_GGZ  KOSTEN\\_GRENSOVERSCHRIJDENDE\\_ZORG  \\\\\n",
    "0                         490222.49                       21946526.34   \n",
    "1                              0.00                           2571.36   \n",
    "2                              0.00                            186.08   \n",
    "3                            157.44                           1743.72   \n",
    "4                           1422.67                             62.75   \n",
    "5                              0.00                            206.11   \n",
    "6                              0.00                            662.75   \n",
    "7                              0.00                           1422.76   \n",
    "8                            168.55                           7153.37   \n",
    "9                           3777.82                           2492.23   \n",
    "\n",
    "   KOSTEN\\_EERSTELIJNS\\_ONDERSTEUNING  KOSTEN\\_GERIATRISCHE\\_REVALIDATIEZORG  \\\\\n",
    "0                            523.35                            351533.29   \n",
    "1                             31.05                                 0.00   \n",
    "2                              5.40                                 0.00   \n",
    "3                             12.60                                 0.00   \n",
    "4                              3.60                                 0.00   \n",
    "5                            955.80                                 0.00   \n",
    "6                             11.25                                 0.00   \n",
    "7                              7.20                                 0.00   \n",
    "8                             36.90                                 0.00   \n",
    "9                             27.45                                 0.00   \n",
    "\n",
    "   KOSTEN\\_OVERIG  \n",
    "0      849751.44  \n",
    "1         186.03  \n",
    "2         135.30  \n",
    "3       13285.23  \n",
    "4         107.40  \n",
    "5         453.66  \n",
    "6         165.60  \n",
    "7         368.37  \n",
    "8        2707.21  \n",
    "9         682.51  \n",
    "\n",
    "[10 rows x 24 columns]\n",
    "\n",
    "We are going to be interested in total health care costs under the deductible. Hence, we specify the categories that fall under the deductible in the Netherlands in 2014.\n",
    "Further, we want to do this analysis in English. So we relabel the relevant column names into English.\n",
    "\n",
    "We specify a list of columns (cost categories) across which we want to add costs. As the costs are total costs (not costs per head) we can indeed add these numbers. We leave out mental health care as it features its own financial incentives.\n",
    "\n",
    "We specify the name of a new variable `health_expenditure_under_deductible` which is calculated on the list of columns specified and then the function that needs to be applied &#x2013; `sum` in this case. Finally, we specify that the function needs to be applied row-wise: `axis=1`.\n",
    "\n",
    "Then we give a dictionary with \"old\" variable names (in Dutch) and the \"new\" names in English for the variables where we want to use the English names.\n",
    "\n"
   ]
  },
  {
   "cell_type": "code",
   "execution_count": 1,
   "metadata": {
    "collapsed": true
   },
   "outputs": [],
   "source": [
    "cost_categories_under_deductible = ['KOSTEN_MEDISCH_SPECIALISTISCHE_ZORG', 'KOSTEN_MONDZORG', 'KOSTEN_FARMACIE', 'KOSTEN_HULPMIDDELEN', 'KOSTEN_PARAMEDISCHE_ZORG_FYSIOTHERAPIE', 'KOSTEN_PARAMEDISCHE_ZORG_OVERIG', 'KOSTEN_ZIEKENVERVOER_ZITTEND', 'KOSTEN_ZIEKENVERVOER_LIGGEND', 'KOSTEN_GRENSOVERSCHRIJDENDE_ZORG', 'KOSTEN_GERIATRISCHE_REVALIDATIEZORG', 'KOSTEN_OVERIG']\n",
    "df_gemeente['health_expenditure_under_deductible'] = df_gemeente[cost_categories_under_deductible].sum(axis=1)\n",
    "\n",
    "df_gemeente = df_gemeente.rename_axis({\n",
    "'GESLACHT':'sex',\n",
    "'LEEFTIJDSKLASSE':'age',\n",
    "'GEMEENTENAAM':'MUNICIPALITY',\n",
    "'AANTAL_BSN':'number_citizens',\n",
    "'KOSTEN_MEDISCH_SPECIALISTISCHE_ZORG':'hospital_care',\n",
    "'KOSTEN_FARMACIE':'pharmaceuticals',\n",
    "'KOSTEN_TWEEDELIJNS_GGZ':'mental_care',\n",
    "'KOSTEN_HUISARTS_INSCHRIJFTARIEF':'GP_capitation',\n",
    "'KOSTEN_HUISARTS_CONSULT':'GP_fee_for_service',\n",
    "'KOSTEN_HUISARTS_OVERIG':'GP_other',\n",
    "'KOSTEN_MONDZORG':'dental care',\n",
    "'KOSTEN_PARAMEDISCHE_ZORG_FYSIOTHERAPIE':'physiotherapy',\n",
    "'KOSTEN_KRAAMZORG':'maternity_care',\n",
    "'KOSTEN_VERLOSKUNDIGE_ZORG':'obstetrics'\n",
    "}, axis='columns')\n",
    "\n",
    "df_gemeente.dtypes"
   ]
  },
  {
   "cell_type": "markdown",
   "metadata": {},
   "source": [
    "We drop the columns that we no longer need.\n",
    "\n"
   ]
  },
  {
   "cell_type": "code",
   "execution_count": 1,
   "metadata": {
    "collapsed": true
   },
   "outputs": [],
   "source": [
    "df_gemeente.drop(['AANTAL_VERZEKERDEJAREN',\n",
    "'KOSTEN_HULPMIDDELEN',\n",
    "'KOSTEN_PARAMEDISCHE_ZORG_OVERIG',\n",
    "'KOSTEN_ZIEKENVERVOER_ZITTEND',\n",
    "'KOSTEN_ZIEKENVERVOER_LIGGEND',\n",
    "'KOSTEN_GRENSOVERSCHRIJDENDE_ZORG',\n",
    "'KOSTEN_GERIATRISCHE_REVALIDATIEZORG',\n",
    "'KOSTEN_OVERIG',\n",
    "'KOSTEN_GENERALISTISCHE_BASIS_GGZ',\n",
    "'KOSTEN_EERSTELIJNS_ONDERSTEUNING'],inplace=True,axis=1)\n",
    "df_gemeente.columns"
   ]
  },
  {
   "cell_type": "markdown",
   "metadata": {},
   "source": [
    "Let's look again at the first couple of lines of our data set. The `head` method presents the first 5 line as default.\n",
    "\n"
   ]
  },
  {
   "cell_type": "code",
   "execution_count": 1,
   "metadata": {
    "collapsed": true
   },
   "outputs": [],
   "source": [
    "df_gemeente.head()"
   ]
  },
  {
   "cell_type": "markdown",
   "metadata": {},
   "source": [
    "We are not interested in the first line, so we drop it. Indeed, our data set now starts with the first municipality 'AA EN HUNZE'.\n",
    "\n"
   ]
  },
  {
   "cell_type": "code",
   "execution_count": 1,
   "metadata": {
    "collapsed": true
   },
   "outputs": [],
   "source": [
    "df_gemeente.drop(df_gemeente.index[[0]], inplace=True)\n",
    "df_gemeente.head()"
   ]
  },
  {
   "cell_type": "markdown",
   "metadata": {},
   "source": [
    "  sex             age   MUNICIPALITY  number\\_citizens  hospital\\_care  \\\\\n",
    "1   M   0 t/m  4 jaar    AA EN HUNZE              507      473370.77   \n",
    "2   M   0 t/m  4 jaar        AALBURG              428      340442.37   \n",
    "3   M   0 t/m  4 jaar       AALSMEER              876      932841.57   \n",
    "4   M   0 t/m  4 jaar         AALTEN              667      515879.78   \n",
    "5   M   0 t/m  4 jaar  ACHTKARSPELEN              810      766456.80   \n",
    "\n",
    "   pharmaceuticals  mental\\_care  GP\\_capitation  GP\\_fee\\_for\\_service  GP\\_other  \\\\\n",
    "1         43305.49     14056.81       26239.56            12829.29  36034.65   \n",
    "2         23395.86      5555.83       21673.15             9417.98  20159.19   \n",
    "3         54597.52     34355.66       43971.27            22413.37  61629.32   \n",
    "4         43516.71      2404.19       33749.10            18472.64  46720.61   \n",
    "5         88084.16      6681.81       41477.79            19157.34  53633.01   \n",
    "\n",
    "   dental care  physiotherapy  maternity\\_care  obstetrics  \\\\\n",
    "1      9311.14       15968.80             0.0         0.0   \n",
    "2      7213.81        6135.05             0.0         0.0   \n",
    "3     19042.00       20086.43             0.0         0.0   \n",
    "4     12909.41       20762.75             0.0         0.0   \n",
    "5     16695.10       23423.96             0.0         0.0   \n",
    "\n",
    "   health\\_expenditure\\_under\\_deductible  \n",
    "1                            576750.31  \n",
    "2                            406856.55  \n",
    "3                           1093297.37  \n",
    "4                            652523.86  \n",
    "5                            954494.16  \n",
    "\n",
    "Now let's consider data types.\n",
    "\n"
   ]
  },
  {
   "cell_type": "code",
   "execution_count": 1,
   "metadata": {
    "collapsed": true
   },
   "outputs": [],
   "source": [
    "df_gemeente.dtypes"
   ]
  },
  {
   "cell_type": "markdown",
   "metadata": {},
   "source": [
    "sex                                     object\n",
    "age                                     object\n",
    "MUNICIPALITY                            object\n",
    "number\\_citizens                          int64\n",
    "hospital\\_care                          float64\n",
    "pharmaceuticals                        float64\n",
    "mental\\_care                            float64\n",
    "GP\\_capitation                          float64\n",
    "GP\\_fee\\_for\\_service                     float64\n",
    "GP\\_other                               float64\n",
    "dental care                            float64\n",
    "physiotherapy                          float64\n",
    "maternity\\_care                         float64\n",
    "obstetrics                             float64\n",
    "health\\_expenditure\\_under\\_deductible    float64\n",
    "dtype: object\n",
    "\n",
    "The first three variables are seen as \"object\", that is, strings. This is fine for `MUNICIPALITY` but is not quite right for `sex` and `age` as these are categories. So let's relabel their types.\n",
    "\n"
   ]
  },
  {
   "cell_type": "code",
   "execution_count": 1,
   "metadata": {
    "collapsed": true
   },
   "outputs": [],
   "source": [
    "df_gemeente['sex'] = df_gemeente['sex'].astype('category')\n",
    "df_gemeente['age'] = df_gemeente['age'].astype('category')\n",
    "df_gemeente.info()"
   ]
  },
  {
   "cell_type": "markdown",
   "metadata": {},
   "source": [
    "<class 'pandas.core.frame.DataFrame'>\n",
    "Int64Index: 14808 entries, 1 to 14808\n",
    "Data columns (total 15 columns):\n",
    "sex                                    14808 non-null category\n",
    "age                                    14808 non-null category\n",
    "MUNICIPALITY                           14808 non-null object\n",
    "number\\_citizens                        14808 non-null int64\n",
    "hospital\\_care                          14808 non-null float64\n",
    "pharmaceuticals                        14808 non-null float64\n",
    "mental\\_care                            14808 non-null float64\n",
    "GP\\_capitation                          14808 non-null float64\n",
    "GP\\_fee\\_for\\_service                     14808 non-null float64\n",
    "GP\\_other                               14808 non-null float64\n",
    "dental care                            14808 non-null float64\n",
    "physiotherapy                          14808 non-null float64\n",
    "maternity\\_care                         14808 non-null float64\n",
    "obstetrics                             14808 non-null float64\n",
    "health\\_expenditure\\_under\\_deductible    14808 non-null float64\n",
    "dtypes: category(2), float64(11), int64(1), object(1)\n",
    "memory usage: 1.6+ MB\n",
    "\n",
    "We can select rows from a dataframe using `loc`. Below, we consider the municipality Breda and people between 10 and 14 years old.\n",
    "\n"
   ]
  },
  {
   "cell_type": "code",
   "execution_count": 1,
   "metadata": {
    "collapsed": true
   },
   "outputs": [],
   "source": [
    "df_gemeente.loc[(df_gemeente.MUNICIPALITY == 'BREDA') & (df_gemeente['age'] == '10 t/m 14 jaar')]"
   ]
  },
  {
   "cell_type": "markdown",
   "metadata": {},
   "source": [
    "sex             age MUNICIPALITY  number\\_citizens  hospital\\_care  \\\\\n",
    "832    M  10 t/m 14 jaar        BREDA             5206     2215947.11   \n",
    "8234   V  10 t/m 14 jaar        BREDA             4915     1425550.97   \n",
    "\n",
    "      pharmaceuticals  mental\\_care  GP\\_capitation  GP\\_fee\\_for\\_service  \\\\\n",
    "832         381799.92    920439.00      301494.04             88705.2   \n",
    "8234        255232.99    564944.21      284269.76             91482.6   \n",
    "\n",
    "       GP\\_other  dental care  physiotherapy  maternity\\_care  obstetrics  \\\\\n",
    "832   142402.72    677836.15      187429.87             0.0         0.0   \n",
    "8234  134486.26    620303.59      202916.68             0.0         0.0   \n",
    "\n",
    "      health\\_expenditure\\_under\\_deductible  \n",
    "832                            3756487.05  \n",
    "8234                           2795294.25  \n",
    "\n",
    "If we are interested in one variable, e.g. `number_citizens`, we can select this as well.\n",
    "\n"
   ]
  },
  {
   "cell_type": "code",
   "execution_count": 1,
   "metadata": {
    "collapsed": true
   },
   "outputs": [],
   "source": [
    "df_gemeente.loc[(df_gemeente.MUNICIPALITY == 'BREDA') & (df_gemeente['age'] == '10 t/m 14 jaar')]['number_citizens']"
   ]
  },
  {
   "cell_type": "markdown",
   "metadata": {},
   "source": [
    "---\n",
    "\n",
    "**Exercise**\n",
    "\n",
    "Calculate how many citizens live in Breda between the age of 10 and 14.\n",
    "\n",
    "---\n",
    "\n",
    "We can also give lists of row values that we are interested in:\n",
    "\n"
   ]
  },
  {
   "cell_type": "code",
   "execution_count": 1,
   "metadata": {
    "collapsed": true
   },
   "outputs": [],
   "source": [
    "df_gemeente.loc[(df_gemeente.MUNICIPALITY.isin(['BREDA', 'TILBURG'])) & (df_gemeente['age'] == '10 t/m 14 jaar')]['number_citizens']"
   ]
  },
  {
   "cell_type": "markdown",
   "metadata": {},
   "source": [
    "832     5206\n",
    "1098    5817\n",
    "8234    4915\n",
    "8500    5651\n",
    "Name: number\\_citizens, dtype: int64\n",
    "\n",
    "---\n",
    "\n",
    "**Exercise**\n",
    "\n",
    "Calculate total health care expenditures under the deductible for people living in Amsterdam between the ages of 10 and 19 years old.\n",
    "\n",
    "---\n",
    "\n",
    "Now that we have the data ready, we are going to plot health care expenditures on the map of the Netherlands.\n",
    "\n"
   ]
  },
  {
   "cell_type": "markdown",
   "metadata": {},
   "source": [
    "\n",
    "## geographical figures\n",
    "\n"
   ]
  },
  {
   "cell_type": "markdown",
   "metadata": {},
   "source": [
    "We have map data that links the name of a municipality to coordinates\n",
    "on the map. In this map data, the names of municipalities are\n",
    "capitalized under standard Dutch capitalization like \"Aa en Hunze\". In\n",
    "our Vektis data, the names of municipalities are written in\n",
    "capitals. There are a number of ways to resolve this. To illustrate\n",
    "the `merge` command, we use a file with two columns: 1. the names of\n",
    "municipalities all capitalized and 2. normal capitalization. We drop\n",
    "the rows where there is no value for municipality (if such rows\n",
    "exist). We merge our data `df_gemeente` with the dataframe `Gemeentes`. We use a \"left-merge\", so all rows in the first dataframe `df_gemeente` are kept.\n",
    "\n"
   ]
  },
  {
   "cell_type": "code",
   "execution_count": 1,
   "metadata": {
    "collapsed": true
   },
   "outputs": [],
   "source": [
    "Gemeentes = pd.read_excel('Gemeentes.xlsx')\n",
    "df_gemeente = df_gemeente.dropna(subset=['MUNICIPALITY'])\n",
    "df_gem_merged = pd.merge(df_gemeente,Gemeentes,on=['MUNICIPALITY'],how='left')\n",
    "df_gem_merged.head()"
   ]
  },
  {
   "cell_type": "markdown",
   "metadata": {},
   "source": [
    "  sex             age   MUNICIPALITY  number\\_citizens  hospital\\_care  \\\\\n",
    "0   M   0 t/m  4 jaar    AA EN HUNZE              507      473370.77\n",
    "1   M   0 t/m  4 jaar        AALBURG              428      340442.37\n",
    "2   M   0 t/m  4 jaar       AALSMEER              876      932841.57\n",
    "3   M   0 t/m  4 jaar         AALTEN              667      515879.78\n",
    "4   M   0 t/m  4 jaar  ACHTKARSPELEN              810      766456.80\n",
    "\n",
    "   pharmaceuticals  mental\\_care  GP\\_capitation  GP\\_fee\\_for\\_service  GP\\_other  \\\\\n",
    "0         43305.49     14056.81       26239.56            12829.29  36034.65\n",
    "1         23395.86      5555.83       21673.15             9417.98  20159.19\n",
    "2         54597.52     34355.66       43971.27            22413.37  61629.32\n",
    "3         43516.71      2404.19       33749.10            18472.64  46720.61\n",
    "4         88084.16      6681.81       41477.79            19157.34  53633.01\n",
    "\n",
    "   dental care  physiotherapy  maternity\\_care  obstetrics  \\\\\n",
    "0      9311.14       15968.80             0.0         0.0\n",
    "1      7213.81        6135.05             0.0         0.0\n",
    "2     19042.00       20086.43             0.0         0.0\n",
    "3     12909.41       20762.75             0.0         0.0\n",
    "4     16695.10       23423.96             0.0         0.0\n",
    "\n",
    "   health\\_expenditure\\_under\\_deductible   Municipality\n",
    "0                            576750.31    Aa en Hunze\n",
    "1                            406856.55        Aalburg\n",
    "2                           1093297.37       Aalsmeer\n",
    "3                            652523.86         Aalten\n",
    "4                            954494.16  Achtkarspelen\n",
    "\n",
    "We are going to plot expenditure under the deductible per head for each municipality. We need a couple of steps in order to do this:\n",
    "\n",
    "1.  we add &#x2013;for each municipality&#x2013; the expenditures under the deductible across age groups;\n",
    "2.  we add &#x2013;for each municipality&#x2013; the number of people across age groups;\n",
    "3.  we divide &#x2013;for each municipality&#x2013; the expenditures by the number of people.\n",
    "\n",
    "With pandas this is straightforward to do using `groupby`. We do the `groupby` on the municipality. For each municipality there are different age groups and we need to aggregate over these age groups. We specify the variables that we want to know at the municipality level. In this case `health_expenditure_under_deductible` and `number_citizens`. Finally, we specify the function with which to aggregate. Here we use the 'built-in' function `sum()`. Other functions we can use include `mean`, `min`, `max` etc. You can also specify your own function and apply this using `agg()`.\n",
    "\n",
    "Then hospital care per head can be defined as the total expenditure per municipality divided by the total number of citizens per municipality.\n",
    "\n"
   ]
  },
  {
   "cell_type": "code",
   "execution_count": 1,
   "metadata": {
    "collapsed": false
   },
   "outputs": [
    {
     "name": "stdout",
     "output_type": "stream",
     "text": [
      "thirteen-november-angel-delaware\n",
      "\n",
      "                  health_expenditure_under_deductible  number_citizens  \\\n",
      "Municipality\n",
      "'s-Gravenhage                            9.115807e+08           509206\n",
      "'s-Hertogenbosch                         2.697598e+08           151934\n",
      "Aa en Hunze                              4.696741e+07            25415\n",
      "Aalburg                                  2.189368e+07            12871\n",
      "Aalsmeer                                 4.864200e+07            31365\n",
      "\n",
      "                  expenditure_per_head\n",
      "Municipality\n",
      "'s-Gravenhage              1790.200148\n",
      "'s-Hertogenbosch           1775.506394\n",
      "Aa en Hunze                1848.019292\n",
      "Aalburg                    1701.008568\n",
      "Aalsmeer                   1550.837018"
     ]
    }
   ],
   "source": [
    "results = df_gem_merged.groupby('Municipality')[['health_expenditure_under_deductible','number_citizens']].sum()\n",
    "results['expenditure_per_head'] = results['health_expenditure_under_deductible']/results['number_citizens']\n",
    "results.head()"
   ]
  },
  {
   "cell_type": "code",
   "execution_count": 1,
   "metadata": {
    "collapsed": false
   },
   "outputs": [
    {
     "name": "stdout",
     "output_type": "stream",
     "text": [
      "bravo-pip-march-batman\n",
      "\n",
      "                  expenditure      municipality\n",
      "Municipality\n",
      "'s-Gravenhage     1790.200148     's-Gravenhage\n",
      "'s-Hertogenbosch  1775.506394  's-Hertogenbosch\n",
      "Aa en Hunze       1848.019292       Aa en Hunze\n",
      "Aalburg           1701.008568           Aalburg\n",
      "Aalsmeer          1550.837018          Aalsmeer"
     ]
    }
   ],
   "source": [
    "# Create a dataframe\n",
    "p_results = pd.DataFrame(dict(\n",
    "    municipality = results.index,\n",
    "    expenditure = results['expenditure_per_head']\n",
    "    ))\n",
    "\n",
    "p_results.head()"
   ]
  },
  {
   "cell_type": "code",
   "execution_count": 1,
   "metadata": {
    "collapsed": false
   },
   "outputs": [
    {
     "name": "stdout",
     "output_type": "stream",
     "text": [
      "muppet-lamp-william-minnesota\n",
      "\n",
      "<IPython.lib.display.IFrame at 0x10ff2d160>"
     ]
    }
   ],
   "source": [
    "from IPython.display import display, IFrame\n",
    "import folium\n",
    "\n",
    "geo_path = r'Gemeentegrenzen_2016_zonder_water_simplified_wgs84.geojson'\n",
    "\n",
    "\n",
    "ref_map = folium.Map(\n",
    "    location=[52.139177, 5.327108], # This will center the view on the world map where the Netherlands is located\n",
    "    tiles='Mapbox Bright',          # This creates a base map and in this case its the Mapbox Bright basemap\n",
    "    zoom_start=8)                   # This will zoom in on the center of view to get the Netherlands in full frame\n",
    "\n",
    "ref_map.choropleth(\n",
    "    # This is the path to the geojson file that contains all the municipality shapes and locations\n",
    "    geo_path=geo_path,\n",
    "    # We will use the p_results dataframe for the choropleth mapping\n",
    "    data=p_results,\n",
    "    # municipality will be used for the mapping key and expenditure for its value\n",
    "    columns=['municipality', 'expenditure'],\n",
    "    # Use GM_NAAM (short for municipality name) as keys for colormapping\n",
    "    key_on='feature.properties.GM_NAAM',\n",
    "    # We are going to use a color map from yellow to green\n",
    "    fill_color='YlGn',\n",
    "    # This gives municipality shapes some opacity so that we can still see the background\n",
    "    fill_opacity=0.7,\n",
    "    # This gives the lines around the municipality shapes some opacity so that they don't stand out too much\n",
    "    line_opacity=0.2,\n",
    "    # The legend\n",
    "    legend_name='health care expenditure per head')\n",
    "\n",
    "ref_map.save('health_expenditure.html')              # This will save the map in a HTML format\n",
    "\n",
    "display(IFrame('health_expenditure.html', 800,800))  # This displays the map in an Iframe"
   ]
  },
  {
   "cell_type": "markdown",
   "metadata": {},
   "source": [
    "---\n",
    "\n",
    "**Exercise**\n",
    "\n",
    "Plot number of citizens per municipality using color scheme 'OrRd'.\n",
    "\n",
    "---\n",
    "\n"
   ]
  },
  {
   "cell_type": "markdown",
   "metadata": {},
   "source": [
    "\n",
    "# Health care expenditure and age\n",
    "\n"
   ]
  },
  {
   "cell_type": "markdown",
   "metadata": {},
   "source": [
    "The municipality data set above does not give the health care expenditure per age; only per age group (like 0-4 year olds). So we load another data set that does feature health care expenditure per age.\n",
    "\n"
   ]
  },
  {
   "cell_type": "markdown",
   "metadata": {},
   "source": [
    "\n",
    "## read in the data\n",
    "\n"
   ]
  },
  {
   "cell_type": "markdown",
   "metadata": {},
   "source": [
    "Again, we use data from [Vektis](http://www.vektis.nl/index.php/vektis-open-data). We import the data, which is a 'csv' file with \";\" as separator between columns. We also import some libraries.\n",
    "\n",
    "Then we look at the columns (variables) in the data.\n",
    "\n"
   ]
  },
  {
   "cell_type": "code",
   "execution_count": 1,
   "metadata": {
    "collapsed": false
   },
   "outputs": [
    {
     "name": "stdout",
     "output_type": "stream",
     "text": [
      "blossom-batman-uniform-princess\n",
      "\n",
      "\n",
      "\n",
      "GESLACHT                                   object\n",
      "LEEFTIJDSKLASSE                            object\n",
      "POSTCODE_3                                float64\n",
      "AANTAL_BSN                                  int64\n",
      "AANTAL_VERZEKERDEJAREN                    float64\n",
      "KOSTEN_MEDISCH_SPECIALISTISCHE_ZORG       float64\n",
      "KOSTEN_FARMACIE                           float64\n",
      "KOSTEN_TWEEDELIJNS_GGZ                    float64\n",
      "KOSTEN_HUISARTS_INSCHRIJFTARIEF           float64\n",
      "KOSTEN_HUISARTS_CONSULT                   float64\n",
      "KOSTEN_HUISARTS_OVERIG                    float64\n",
      "KOSTEN_HULPMIDDELEN                       float64\n",
      "KOSTEN_MONDZORG                           float64\n",
      "KOSTEN_PARAMEDISCHE_ZORG_FYSIOTHERAPIE    float64\n",
      "KOSTEN_PARAMEDISCHE_ZORG_OVERIG           float64\n",
      "KOSTEN_ZIEKENVERVOER_ZITTEND              float64\n",
      "KOSTEN_ZIEKENVERVOER_LIGGEND              float64\n",
      "KOSTEN_KRAAMZORG                          float64\n",
      "KOSTEN_VERLOSKUNDIGE_ZORG                 float64\n",
      "KOSTEN_GENERALISTISCHE_BASIS_GGZ          float64\n",
      "KOSTEN_GRENSOVERSCHRIJDENDE_ZORG          float64\n",
      "KOSTEN_EERSTELIJNS_ONDERSTEUNING          float64\n",
      "KOSTEN_GERIATRISCHE_REVALIDATIEZORG       float64\n",
      "KOSTEN_OVERIG                             float64\n",
      "dtype: object"
     ]
    }
   ],
   "source": [
    "import numpy as np\n",
    "import pandas as pd\n",
    "import matplotlib as plt\n",
    "df_postal_code = pd.read_csv('Vektis_Open_Databestand_Zorgverzekeringswet_2014_-_postcode3.csv', sep = ';')\n",
    "df_postal_code.dtypes"
   ]
  },
  {
   "cell_type": "markdown",
   "metadata": {},
   "source": [
    "This looks very much like the data set above, so we want to do the same steps to get the data into the shape we want. In fact, if you go to the website [Vektis](http://www.vektis.nl/index.php/vektis-open-data) there are similar data sets for other years. Copy and paste the steps above and then apply these steps to the new data sets is asking for trouble:\n",
    "\n",
    "-   you are likely to make mistakes with copy/paste\n",
    "-   if you figure out that you want to change one of your commands, you have to change all the pasted versions as well\n",
    "\n",
    "One solution in python is to define a function that does all these steps for you and apply this function to all the data sets that you want to work with.\n",
    "\n"
   ]
  },
  {
   "cell_type": "code",
   "execution_count": 1,
   "metadata": {
    "collapsed": false
   },
   "outputs": [
    {
     "name": "stdout",
     "output_type": "stream",
     "text": [
      "kitten-kilo-one-july"
     ]
    }
   ],
   "source": [
    "cost_categories_under_deductible = ['KOSTEN_MEDISCH_SPECIALISTISCHE_ZORG', 'KOSTEN_MONDZORG', 'KOSTEN_FARMACIE', 'KOSTEN_HULPMIDDELEN', 'KOSTEN_PARAMEDISCHE_ZORG_FYSIOTHERAPIE', 'KOSTEN_PARAMEDISCHE_ZORG_OVERIG', 'KOSTEN_ZIEKENVERVOER_ZITTEND', 'KOSTEN_ZIEKENVERVOER_LIGGEND', 'KOSTEN_GRENSOVERSCHRIJDENDE_ZORG', 'KOSTEN_GERIATRISCHE_REVALIDATIEZORG', 'KOSTEN_OVERIG']\n",
    "\n",
    "\n",
    "\n",
    "\n",
    "def get_data_into_shape(df):\n",
    "    df['health_expenditure_under_deductible'] = df[cost_categories_under_deductible].sum(axis=1)\n",
    "    df = df.rename_axis({\n",
    "        'GESLACHT':'sex',\n",
    "        'LEEFTIJDSKLASSE':'age',\n",
    "        'GEMEENTENAAM':'MUNICIPALITY',\n",
    "        'AANTAL_BSN':'number_citizens',\n",
    "        'KOSTEN_MEDISCH_SPECIALISTISCHE_ZORG':'hospital_care',\n",
    "        'KOSTEN_FARMACIE':'pharmaceuticals',\n",
    "        'KOSTEN_TWEEDELIJNS_GGZ':'mental_care',\n",
    "        'KOSTEN_HUISARTS_INSCHRIJFTARIEF':'GP_capitation',\n",
    "        'KOSTEN_HUISARTS_CONSULT':'GP_fee_for_service',\n",
    "        'KOSTEN_HUISARTS_OVERIG':'GP_other',\n",
    "        'KOSTEN_MONDZORG':'dental care',\n",
    "        'KOSTEN_PARAMEDISCHE_ZORG_FYSIOTHERAPIE':'physiotherapy',\n",
    "        'KOSTEN_KRAAMZORG':'maternity_care',\n",
    "        'KOSTEN_VERLOSKUNDIGE_ZORG':'obstetrics'\n",
    "    }, axis='columns')\n",
    "    df.drop(['AANTAL_VERZEKERDEJAREN',\n",
    "             'KOSTEN_HULPMIDDELEN',\n",
    "             'KOSTEN_PARAMEDISCHE_ZORG_OVERIG',\n",
    "             'KOSTEN_ZIEKENVERVOER_ZITTEND',\n",
    "             'KOSTEN_ZIEKENVERVOER_LIGGEND',\n",
    "             'KOSTEN_GRENSOVERSCHRIJDENDE_ZORG',\n",
    "             'KOSTEN_GERIATRISCHE_REVALIDATIEZORG',\n",
    "             'KOSTEN_OVERIG',\n",
    "             'KOSTEN_GENERALISTISCHE_BASIS_GGZ',\n",
    "             'KOSTEN_EERSTELIJNS_ONDERSTEUNING'],inplace=True,axis=1)\n",
    "    df.drop(df.index[[0]], inplace=True)\n",
    "    df['sex'] = df['sex'].astype('category')\n",
    "    df['age'] = df['age'].astype('category')\n",
    "    return df"
   ]
  },
  {
   "cell_type": "code",
   "execution_count": 1,
   "metadata": {
    "collapsed": false
   },
   "outputs": [
    {
     "name": "stdout",
     "output_type": "stream",
     "text": [
      "autumn-spaghetti-april-jupiter"
     ]
    }
   ],
   "source": [
    "df_postal_code = get_data_into_shape(df_postal_code)"
   ]
  },
  {
   "cell_type": "code",
   "execution_count": 1,
   "metadata": {
    "collapsed": false
   },
   "outputs": [
    {
     "name": "stdout",
     "output_type": "stream",
     "text": [
      "delaware-beryllium-north-three\n",
      "\n",
      "\n",
      "\n",
      "  sex age  POSTCODE_3  number_citizens  hospital_care  pharmaceuticals  \\\n",
      "1   M   0         0.0              366     1372209.26         31191.20   \n",
      "2   M   0       101.0              590     1682944.17         25898.73   \n",
      "3   M   0       102.0              295     1553933.53         29514.18   \n",
      "4   M   0       103.0              288      827427.31         19263.79   \n",
      "5   M   0       105.0              998     2965316.12         61610.42   \n",
      "\n",
      "   mental_care  GP_capitation  GP_fee_for_service  GP_other  dental care  \\\n",
      "1       285.98        5548.60             5540.05  11525.93       681.02   \n",
      "2     20774.91        9816.63            10130.12  20532.03         0.00   \n",
      "3      7970.01        5317.49             6576.70  17426.30        21.29   \n",
      "4       941.40        5014.97             5708.41  14168.90         0.00   \n",
      "5      4780.48       16842.06            19676.01  43794.06       166.98   \n",
      "\n",
      "   physiotherapy  maternity_care  obstetrics  \\\n",
      "1       12150.91             0.0         0.0   \n",
      "2       17777.00             0.0         0.0   \n",
      "3       20459.17             0.0         0.0   \n",
      "4        9098.71             0.0         0.0   \n",
      "5       42332.18             0.0         0.0   \n",
      "\n",
      "   health_expenditure_under_deductible  \n",
      "1                           1425823.15  \n",
      "2                           1753560.87  \n",
      "3                           1617184.58  \n",
      "4                            865867.07  \n",
      "5                           3118357.71"
     ]
    }
   ],
   "source": [
    "df_postal_code.head()"
   ]
  },
  {
   "cell_type": "markdown",
   "metadata": {},
   "source": [
    "The first three columns are 'sex', 'age' and 'postal code' (3 digit). These 3 variables combined determine a unique observation. We think of these observations as if they are from an individual (but an observation is an average, like the average over 18 year old males in postal code 102).\n",
    "\n",
    "Note that the first postal code is '000' which python thinks of as '0.0'. The\n",
    "[data description](http://www.vektis.nl/images/open_data/Bijsluiter_bij_de_Vektis_Open_Databestanden_Zorgverzekeringswet_2011_-_2014.pdf) explains that postal code '000' is used to aggregate people who\n",
    "live in a postal code with so few people that the privacy of their data is no\n",
    "longer guaranteed. As we want to think of `sex`, `age` and `postal code` as an observation, we drop the first row (labelled as `0`) of the dataframe.\n",
    "\n"
   ]
  },
  {
   "cell_type": "code",
   "execution_count": 1,
   "metadata": {
    "collapsed": false
   },
   "outputs": [
    {
     "name": "stdout",
     "output_type": "stream",
     "text": [
      "one-queen-arizona-venus\n",
      "\n",
      "\n",
      "\n",
      "  sex age  POSTCODE_3  number_citizens  hospital_care  pharmaceuticals  \\\n",
      "2   M   0       101.0              590     1682944.17         25898.73   \n",
      "3   M   0       102.0              295     1553933.53         29514.18   \n",
      "4   M   0       103.0              288      827427.31         19263.79   \n",
      "5   M   0       105.0              998     2965316.12         61610.42   \n",
      "6   M   0       106.0             1056     3716382.22         87140.60   \n",
      "\n",
      "   mental_care  GP_capitation  GP_fee_for_service  GP_other  dental care  \\\n",
      "2     20774.91        9816.63            10130.12  20532.03         0.00   \n",
      "3      7970.01        5317.49             6576.70  17426.30        21.29   \n",
      "4       941.40        5014.97             5708.41  14168.90         0.00   \n",
      "5      4780.48       16842.06            19676.01  43794.06       166.98   \n",
      "6     25006.18       19517.84            24045.35  65572.64       114.05   \n",
      "\n",
      "   physiotherapy  maternity_care  obstetrics  \\\n",
      "2       17777.00             0.0         0.0   \n",
      "3       20459.17             0.0         0.0   \n",
      "4        9098.71             0.0         0.0   \n",
      "5       42332.18             0.0         0.0   \n",
      "6       28299.76             0.0         0.0   \n",
      "\n",
      "   health_expenditure_under_deductible  \n",
      "2                           1753560.87  \n",
      "3                           1617184.58  \n",
      "4                            865867.07  \n",
      "5                           3118357.71  \n",
      "6                           3885368.16"
     ]
    }
   ],
   "source": [
    "df_postal_code.drop(df_postal_code.index[[0]], inplace=True)\n",
    "df_postal_code.head()"
   ]
  },
  {
   "cell_type": "markdown",
   "metadata": {},
   "source": [
    "The end of the dataframe is given by the following.\n",
    "\n"
   ]
  },
  {
   "cell_type": "code",
   "execution_count": 1,
   "metadata": {
    "collapsed": false
   },
   "outputs": [
    {
     "name": "stdout",
     "output_type": "stream",
     "text": [
      "finch-oven-thirteen-nine\n",
      "\n",
      "       sex  age  POSTCODE_3  number_citizens  hospital_care  pharmaceuticals  \\\n",
      "136463   V  90+       988.0               10       19698.83          4011.31   \n",
      "136464   V  90+       990.0              151      257046.54         99187.66   \n",
      "136465   V  90+       991.0               51       95990.43         52682.34   \n",
      "136466   V  90+       993.0              170      278000.11        124809.41   \n",
      "136467   V  90+       994.0               38       28454.41         36590.90   \n",
      "136468   V  90+       995.0               88      200183.72         64315.53   \n",
      "136469   V  90+       996.0               44       46723.13         39419.64   \n",
      "136470   V  90+       997.0               38       98954.45         34308.68   \n",
      "136471   V  90+       998.0              116      168802.54        116907.93   \n",
      "136472   V  90+       999.0               38      109842.07         40607.06   \n",
      "\n",
      "        mental_care  GP_capitation  GP_fee_for_service  GP_other  dental care  \\\n",
      "136463         0.00         894.25              567.45   1283.11         0.00   \n",
      "136464     37614.24       11880.75            20144.21  24522.70      1619.74   \n",
      "136465      1102.77        4854.50            14575.32  15550.40       801.65   \n",
      "136466     12652.77       12646.44            13305.75  19040.63      2495.54   \n",
      "136467      2251.30        3652.03             5742.81  16966.62       143.16   \n",
      "136468      3691.37        6438.60            11593.30  15929.91      2729.32   \n",
      "136469      2833.17        4011.35             5459.40  15185.71       979.06   \n",
      "136470      4480.09        3347.05             5395.18   7061.51       897.98   \n",
      "136471     13830.16       10424.40            13527.80  28548.80      1577.91   \n",
      "136472      3273.62        3704.75             4197.46   6763.69        60.97   \n",
      "\n",
      "        physiotherapy  maternity_care  obstetrics  \\\n",
      "136463            0.0             0.0         0.0   \n",
      "136464        12000.6             0.0         0.0   \n",
      "136465          462.0             0.0         0.0   \n",
      "136466         1675.0             0.0         0.0   \n",
      "136467         1409.2             0.0         0.0   \n",
      "136468         4352.1             0.0         0.0   \n",
      "136469         6537.2             0.0         0.0   \n",
      "136470         9201.0             0.0         0.0   \n",
      "136471         1875.6             0.0         0.0   \n",
      "136472          290.0             0.0         0.0   \n",
      "\n",
      "        health_expenditure_under_deductible  \n",
      "136463                             33079.01  \n",
      "136464                            790837.02  \n",
      "136465                            207319.25  \n",
      "136466                            535215.22  \n",
      "136467                            106569.94  \n",
      "136468                            378170.95  \n",
      "136469                            156304.71  \n",
      "136470                            193232.92  \n",
      "136471                            455608.75  \n",
      "136472                            198874.20"
     ]
    }
   ],
   "source": [
    "df_postal_code.tail(10)"
   ]
  },
  {
   "cell_type": "markdown",
   "metadata": {},
   "source": [
    "As we saw above, the datatype of `age` was `object`, although we would expect `integer`. Now we see that there is this category `90+`, which is not an integer. We will drop this age category as it is quite special. Before we do this, let's count how many people we have in our dataset.\n",
    "\n"
   ]
  },
  {
   "cell_type": "code",
   "execution_count": 1,
   "metadata": {
    "collapsed": false
   },
   "outputs": [
    {
     "name": "stdout",
     "output_type": "stream",
     "text": [
      "comet-sodium-sink-kansas\n",
      "\n",
      "16885677"
     ]
    }
   ],
   "source": [
    "df_postal_code['number_citizens'].sum()"
   ]
  },
  {
   "cell_type": "markdown",
   "metadata": {},
   "source": [
    "That is, almost 17 million people, which is about right.\n",
    "\n",
    "Let's drop the '90+' category and turn `age` into an integer variable.\n",
    "\n"
   ]
  },
  {
   "cell_type": "code",
   "execution_count": 1,
   "metadata": {
    "collapsed": false
   },
   "outputs": [
    {
     "name": "stdout",
     "output_type": "stream",
     "text": [
      "nevada-nevada-alpha-lithium"
     ]
    }
   ],
   "source": [
    "df_postal_code = df_postal_code[(df_postal_code['age'] != '90+')]\n",
    "df_postal_code['age'] = df_postal_code['age'].astype(int)"
   ]
  },
  {
   "cell_type": "markdown",
   "metadata": {},
   "source": [
    "Let's summarize the variables that are numeric (integer or float). For each of these variables we have 135,063 observations (that is, combinations of `sex`, `age` and `postal code`). The mean for number of citizens is 124. With $135,063*124$ we are close to 17 million again.\n",
    "\n"
   ]
  },
  {
   "cell_type": "code",
   "execution_count": 1,
   "metadata": {
    "collapsed": false
   },
   "outputs": [
    {
     "name": "stdout",
     "output_type": "stream",
     "text": [
      "mexico-minnesota-carbon-single\n",
      "\n",
      "\n",
      "\n",
      "                 age     POSTCODE_3  number_citizens  hospital_care  \\\n",
      "count  135063.000000  135063.000000    135063.000000   1.350630e+05   \n",
      "mean       43.753959     541.250002       123.950327   1.534887e+05   \n",
      "std        25.535582     258.016742       129.491359   1.965840e+05   \n",
      "min         0.000000       0.000000        10.000000  -2.300980e+04   \n",
      "25%        22.000000     318.000000        40.000000   3.055294e+04   \n",
      "50%        44.000000     539.000000        82.000000   8.262627e+04   \n",
      "75%        66.000000     763.000000       161.000000   2.006986e+05   \n",
      "max        89.000000     999.000000      2228.000000   5.263426e+06   \n",
      "\n",
      "       pharmaceuticals    mental_care  GP_capitation  GP_fee_for_service  \\\n",
      "count     1.350630e+05  135063.000000  135063.000000       135063.000000   \n",
      "mean      3.146225e+04   23296.150212    7693.165768         4528.021995   \n",
      "std       4.483099e+04   45078.454602    7676.781993         5060.276133   \n",
      "min      -2.857890e+03  -29164.050000       0.000000            0.000000   \n",
      "25%       5.034130e+03     299.260000    2585.970000         1351.340000   \n",
      "50%       1.547225e+04    5702.020000    5244.990000         2900.080000   \n",
      "75%       4.037718e+04   24546.195000   10140.510000         5899.600000   \n",
      "max       1.546412e+06  885045.050000  155453.330000       194903.830000   \n",
      "\n",
      "            GP_other    dental care  physiotherapy  maternity_care  \\\n",
      "count  135063.000000  135063.000000  135063.000000   135063.000000   \n",
      "mean     5938.297319    5438.213219    3287.127334     2201.230080   \n",
      "std      6329.471736   10190.600213    4659.495994    10426.252898   \n",
      "min         0.000000    -458.190000    -106.800000    -1898.420000   \n",
      "25%      1934.255000     150.075000     143.745000        0.000000   \n",
      "50%      4002.870000    1746.990000    1617.300000        0.000000   \n",
      "75%      7691.255000    6293.135000    4463.975000        0.000000   \n",
      "max    276119.620000  254585.130000  106169.130000   399960.460000   \n",
      "\n",
      "          obstetrics  health_expenditure_under_deductible  \n",
      "count  135063.000000                         1.350630e+05  \n",
      "mean     1612.545851                         2.192913e+05  \n",
      "std      7853.598487                         2.719250e+05  \n",
      "min         0.000000                         0.000000e+00  \n",
      "25%         0.000000                         4.791477e+04  \n",
      "50%         0.000000                         1.234374e+05  \n",
      "75%         0.000000                         2.872767e+05  \n",
      "max    321751.460000                         9.012553e+06"
     ]
    }
   ],
   "source": [
    "df_postal_code.describe()"
   ]
  },
  {
   "cell_type": "code",
   "execution_count": 1,
   "metadata": {
    "collapsed": false
   },
   "outputs": [
    {
     "name": "stdout",
     "output_type": "stream",
     "text": [
      "bakerloo-lemon-edward-mike\n",
      "\n",
      "<class 'pandas.core.frame.DataFrame'>\n",
      "Int64Index: 135063 entries, 2 to 135741\n",
      "Data columns (total 15 columns):\n",
      "sex                                    135063 non-null category\n",
      "age                                    135063 non-null int64\n",
      "POSTCODE_3                             135063 non-null float64\n",
      "number_citizens                        135063 non-null int64\n",
      "hospital_care                          135063 non-null float64\n",
      "pharmaceuticals                        135063 non-null float64\n",
      "mental_care                            135063 non-null float64\n",
      "GP_capitation                          135063 non-null float64\n",
      "GP_fee_for_service                     135063 non-null float64\n",
      "GP_other                               135063 non-null float64\n",
      "dental care                            135063 non-null float64\n",
      "physiotherapy                          135063 non-null float64\n",
      "maternity_care                         135063 non-null float64\n",
      "obstetrics                             135063 non-null float64\n",
      "health_expenditure_under_deductible    135063 non-null float64\n",
      "dtypes: category(1), float64(12), int64(2)\n",
      "memory usage: 15.6 MB"
     ]
    }
   ],
   "source": [
    "df_postal_code.info()"
   ]
  },
  {
   "cell_type": "markdown",
   "metadata": {},
   "source": [
    "Now let's define the costs per head. For each observation, we divide the total health care costs (under the deductible) for a combination of `sex`, `age` and `postal code` by the number of people in this combination of `sex`, `age` and `postal code`. This gives the health costs per head.\n",
    "\n"
   ]
  },
  {
   "cell_type": "code",
   "execution_count": 1,
   "metadata": {
    "collapsed": true
   },
   "outputs": [],
   "source": [
    "df_postal_code['health_costs_per_head'] = df_postal_code['health_expenditure_under_deductible']/df_postal_code['number_citizens']"
   ]
  },
  {
   "cell_type": "markdown",
   "metadata": {},
   "source": [
    "So for, say, 18 year old males, we have a distribution of costs per head over the different `postal codes`. For each combination of age and sex, we can look at the average expenditure. With `pandas` this is easy to do. We use `groupby`, specify the dimensions over which we want to group, the variable we are interested in and give the function to aggregate (mean, in this case).\n",
    "\n"
   ]
  },
  {
   "cell_type": "code",
   "execution_count": 1,
   "metadata": {
    "collapsed": true
   },
   "outputs": [],
   "source": [
    "costs_per_sex_age = df_postal_code.groupby(['sex','age'])['health_costs_per_head'].mean()"
   ]
  },
  {
   "cell_type": "markdown",
   "metadata": {},
   "source": [
    "\n",
    "## matplotlib\n",
    "\n"
   ]
  },
  {
   "cell_type": "markdown",
   "metadata": {},
   "source": [
    "Then we can plot this distribution of health care expenditure per head with age for males and females.\n",
    "\n"
   ]
  },
  {
   "cell_type": "code",
   "execution_count": 1,
   "metadata": {
    "collapsed": true
   },
   "outputs": [],
   "source": [
    "import matplotlib.pyplot as plt\n",
    "plt.style.use('seaborn')\n",
    "fig = plt.figure()\n",
    "ax = costs_per_sex_age['M'].plot()\n",
    "ax = costs_per_sex_age['V'].plot()\n",
    "ax.set_xlabel('age')\n",
    "ax.set_ylabel('costs per head')\n",
    "ax.set_title('average costs per age and sex')\n",
    "ax.legend(['male','female'])\n",
    "fig.savefig(\"males.png\")"
   ]
  },
  {
   "cell_type": "markdown",
   "metadata": {},
   "source": [
    "![img](./males.png)\n",
    "\n",
    "---\n",
    "\n",
    "**Exercise**\n",
    "\n",
    "Finish the following code block to show how total obstetrics vary with 'age' and 'sex' (what would you guess&#x2026;).\n",
    "\n"
   ]
  },
  {
   "cell_type": "code",
   "execution_count": 1,
   "metadata": {
    "collapsed": true
   },
   "outputs": [],
   "source": [
    "obstetrics_per_sex_age = df_postal_code.groupby(['sex','age'])['obstetrics'].sum()\n",
    "\n",
    "....\n",
    "\n",
    "fig.savefig(\"obstetrics.png\")"
   ]
  },
  {
   "cell_type": "markdown",
   "metadata": {},
   "source": [
    "---\n",
    "\n",
    "We can plot a histogram of the distribution of hospital care expenditure across postal code areas.\n",
    "\n"
   ]
  },
  {
   "cell_type": "code",
   "execution_count": 1,
   "metadata": {
    "collapsed": true
   },
   "outputs": [],
   "source": [
    "hospital_care_expenditure = df_postal_code.groupby(['age','POSTCODE_3'])['hospital_care'].sum()\n",
    "\n",
    "plt.clf()\n",
    "plt.hist(hospital_care_expenditure[7],normed = True, bins = 100)\n",
    "plt.show()"
   ]
  },
  {
   "cell_type": "markdown",
   "metadata": {},
   "source": [
    "---\n",
    "\n",
    "**Exercise**\n",
    "\n",
    "In which fraction of postal code areas does hospital expenditures on 50 year olds exceed 50000 euro? Finish the following code block to find out.\n",
    "\n"
   ]
  },
  {
   "cell_type": "code",
   "execution_count": 1,
   "metadata": {
    "collapsed": true
   },
   "outputs": [],
   "source": [
    "sum()/len()"
   ]
  },
  {
   "cell_type": "markdown",
   "metadata": {},
   "source": [
    "---\n",
    "\n",
    "Suppose you are interested in the effect of the deductible on health care expenditure. Why would the following graph help for this?\n",
    "\n"
   ]
  },
  {
   "cell_type": "code",
   "execution_count": 1,
   "metadata": {
    "collapsed": true
   },
   "outputs": [],
   "source": [
    "plt.style.use('seaborn')\n",
    "plt.clf()\n",
    "age_range = [14,15,16,17,19,20,21,22]\n",
    "\n",
    "plt.plot(age_range,costs_per_sex_age['M'][age_range], marker='.', label = 'male')\n",
    "plt.plot(age_range,costs_per_sex_age['V'][age_range], marker='.', label = 'female')\n",
    "plt.xlabel('age')\n",
    "plt.ylabel('health care costs')\n",
    "plt.legend()\n",
    "fig.savefig('fig14to22.png')"
   ]
  },
  {
   "cell_type": "markdown",
   "metadata": {},
   "source": [
    "![img](./fig14to22.png)\n",
    "\n"
   ]
  },
  {
   "cell_type": "markdown",
   "metadata": {},
   "source": [
    "\n",
    "## plotly\n",
    "\n"
   ]
  },
  {
   "cell_type": "markdown",
   "metadata": {},
   "source": [
    "Instead of `matplotlib` to plot, we can also use `plotly`. With `plotly` you can make interactive graphs. The graph runs on plotly's servers and can for instance be included in presentations.\n",
    "\n",
    "We are going to plot the cumulative distribution functions of health care expenditure for different age groups. We first define the cumulative distribution function `ecdf`.\n",
    "\n"
   ]
  },
  {
   "cell_type": "code",
   "execution_count": 1,
   "metadata": {
    "collapsed": true
   },
   "outputs": [],
   "source": [
    "def ecdf(data):\n",
    "    x = np.sort(data)\n",
    "    y = np.arange(1.0, len(x)+1.0) / len(x)\n",
    "    return x, y"
   ]
  },
  {
   "cell_type": "markdown",
   "metadata": {},
   "source": [
    "Then we define the $x$ and $y$ coordinates of the functions we want to plot: the `ecdf` of health care expenditures for ages 16, 17, 19 and 20.\n",
    "\n"
   ]
  },
  {
   "cell_type": "code",
   "execution_count": 1,
   "metadata": {
    "collapsed": true
   },
   "outputs": [],
   "source": [
    "x_16, y_16 = ecdf(df_postal_code.health_costs_per_head[(df_postal_code['age'] == 16)])\n",
    "x_17, y_17 = ecdf(df_postal_code.health_costs_per_head[(df_postal_code['age'] == 17)])\n",
    "x_19, y_19 = ecdf(df_postal_code.health_costs_per_head[(df_postal_code['age'] == 19)])\n",
    "x_20, y_20 = ecdf(df_postal_code.health_costs_per_head[(df_postal_code['age'] == 20)])"
   ]
  },
  {
   "cell_type": "markdown",
   "metadata": {},
   "source": [
    "We import plotly.\n",
    "\n"
   ]
  },
  {
   "cell_type": "code",
   "execution_count": 1,
   "metadata": {
    "collapsed": true
   },
   "outputs": [],
   "source": [
    "import plotly.plotly as py\n",
    "from plotly.graph_objs import *\n",
    "import plotly.tools as tls"
   ]
  },
  {
   "cell_type": "markdown",
   "metadata": {},
   "source": [
    "Finally, we define the graph itself. We specify the \"Scatter's\" and the layout. The web address can be used if you want to include this graph in a presentation.\n",
    "\n"
   ]
  },
  {
   "cell_type": "code",
   "execution_count": 1,
   "metadata": {
    "collapsed": false
   },
   "outputs": [
    {
     "name": "stdout",
     "output_type": "stream",
     "text": [
      "artist-mockingbird-florida-hot\n",
      "\n",
      "<plotly.tools.PlotlyDisplay object>"
     ]
    }
   ],
   "source": [
    "age16 = Scatter(\n",
    "    x=x_16,\n",
    "    y=y_16,\n",
    "    mode='markers+lines',\n",
    "    name = 'age 16'\n",
    ")\n",
    "age17 = Scatter(\n",
    "    x=x_17,\n",
    "    y=y_17,\n",
    "    mode='markers+lines',\n",
    "    name = 'age 17'\n",
    ")\n",
    "age19 = Scatter(\n",
    "    x=x_19,\n",
    "    y=y_19,\n",
    "    mode='markers+lines',\n",
    "    name = 'age 19'\n",
    ")\n",
    "age20 = Scatter(\n",
    "    x=x_20,\n",
    "    y=y_20,\n",
    "    mode='markers+lines',\n",
    "    name = 'age 20'\n",
    ")\n",
    "\n",
    "layout = Layout(\n",
    "    title='Health care expend. distribution functions',\n",
    "    xaxis=XAxis(\n",
    "        range=[0,3000],\n",
    "        title='expenditure per head',\n",
    "        titlefont=Font(\n",
    "            family='Courier New, monospace',\n",
    "            size=18,\n",
    "            color='#7f7f7f'\n",
    "        )\n",
    "    ),\n",
    "    yaxis=YAxis(\n",
    "        title='cum. distribution function',\n",
    "        titlefont=Font(\n",
    "            family='Courier New, monospace',\n",
    "            size=18,\n",
    "            color='#7f7f7f'\n",
    "        )\n",
    "    )\n",
    ")\n",
    "\n",
    "data = Data([age16,age17,age19,age20])\n",
    "fig = Figure(data=data, layout=layout)\n",
    "py.plot(fig, filename='Distribution functions of health care expenditure per head')\n",
    "tls.embed(\"https://plot.ly/~janboone/301\")"
   ]
  },
  {
   "cell_type": "markdown",
   "metadata": {},
   "source": [
    "\n",
    "# A first look at machine learning\n",
    "\n"
   ]
  },
  {
   "cell_type": "markdown",
   "metadata": {},
   "source": [
    "Python is used a lot in data science. If you are interested you can check out libraries like [TensorFlow](https://www.tensorflow.org/) and [keras](https://keras.io/). We will have a (brief) look at [scikit-learn](http://scikit-learn.org/stable/index.html). If you want to know more, go to [Datacamp](https://campus.datacamp.com/courses/supervised-learning-with-scikit-learn/classification?ex=1) and follow the course before your subscription runs out&#x2026;\n",
    "\n",
    "We will use the data set above and see whether we can distinguish different age-categories based on their health care expenditure. From the dataframe we select the age categories 25 and 70. Then we use the expenditure per head in each category to predict the age-sex category of this postal code area.\n",
    "\n",
    "As above we import the relevant libraries and data.\n",
    "\n"
   ]
  },
  {
   "cell_type": "code",
   "execution_count": 1,
   "metadata": {
    "collapsed": false
   },
   "outputs": [
    {
     "name": "stdout",
     "output_type": "stream",
     "text": [
      "GESLACHT                                   object\n",
      "LEEFTIJDSKLASSE                            object\n",
      "POSTCODE_3                                float64\n",
      "AANTAL_BSN                                  int64\n",
      "AANTAL_VERZEKERDEJAREN                    float64\n",
      "KOSTEN_MEDISCH_SPECIALISTISCHE_ZORG       float64\n",
      "KOSTEN_FARMACIE                           float64\n",
      "KOSTEN_TWEEDELIJNS_GGZ                    float64\n",
      "KOSTEN_HUISARTS_INSCHRIJFTARIEF           float64\n",
      "KOSTEN_HUISARTS_CONSULT                   float64\n",
      "KOSTEN_HUISARTS_OVERIG                    float64\n",
      "KOSTEN_HULPMIDDELEN                       float64\n",
      "KOSTEN_MONDZORG                           float64\n",
      "KOSTEN_PARAMEDISCHE_ZORG_FYSIOTHERAPIE    float64\n",
      "KOSTEN_PARAMEDISCHE_ZORG_OVERIG           float64\n",
      "KOSTEN_ZIEKENVERVOER_ZITTEND              float64\n",
      "KOSTEN_ZIEKENVERVOER_LIGGEND              float64\n",
      "KOSTEN_KRAAMZORG                          float64\n",
      "KOSTEN_VERLOSKUNDIGE_ZORG                 float64\n",
      "KOSTEN_GENERALISTISCHE_BASIS_GGZ          float64\n",
      "KOSTEN_GRENSOVERSCHRIJDENDE_ZORG          float64\n",
      "KOSTEN_EERSTELIJNS_ONDERSTEUNING          float64\n",
      "KOSTEN_GERIATRISCHE_REVALIDATIEZORG       float64\n",
      "KOSTEN_OVERIG                             float64\n",
      "dtype: object"
     ]
    }
   ],
   "source": [
    "import numpy as np\n",
    "import pandas as pd\n",
    "import matplotlib as plt\n",
    "df_postal_code = pd.read_csv('Vektis_Open_Databestand_Zorgverzekeringswet_2014_-_postcode3.csv', sep = ';')\n",
    "df_postal_code.dtypes"
   ]
  },
  {
   "cell_type": "markdown",
   "metadata": {},
   "source": [
    "We now use a slightly different way to get the data into shape and hence we rename the function.\n",
    "\n"
   ]
  },
  {
   "cell_type": "code",
   "execution_count": 1,
   "metadata": {
    "collapsed": false
   },
   "outputs": [
    {
     "name": "stdout",
     "output_type": "stream",
     "text": [
      "kitten-kilo-one-july"
     ]
    }
   ],
   "source": [
    "def get_data_into_shape_2(df):\n",
    "    df = df.rename_axis({\n",
    "        'GESLACHT':'sex',\n",
    "        'LEEFTIJDSKLASSE':'age',\n",
    "        'GEMEENTENAAM':'MUNICIPALITY',\n",
    "        'AANTAL_BSN':'number_citizens',\n",
    "        'KOSTEN_MEDISCH_SPECIALISTISCHE_ZORG':'hospital_care',\n",
    "        'KOSTEN_FARMACIE':'pharmaceuticals',\n",
    "        'KOSTEN_TWEEDELIJNS_GGZ':'mental_care',\n",
    "        'KOSTEN_HUISARTS_INSCHRIJFTARIEF':'GP_capitation',\n",
    "        'KOSTEN_HUISARTS_CONSULT':'GP_fee_for_service',\n",
    "        'KOSTEN_HUISARTS_OVERIG':'GP_other',\n",
    "        'KOSTEN_MONDZORG':'dental_care',\n",
    "        'KOSTEN_PARAMEDISCHE_ZORG_FYSIOTHERAPIE':'physiotherapy',\n",
    "        'KOSTEN_KRAAMZORG':'maternity_care',\n",
    "        'KOSTEN_VERLOSKUNDIGE_ZORG':'obstetrics',\n",
    "        'KOSTEN_GERIATRISCHE_REVALIDATIEZORG':'geriatrics'\n",
    "                        }, axis='columns')\n",
    "    df.drop(['AANTAL_VERZEKERDEJAREN',\n",
    "             'KOSTEN_HULPMIDDELEN',\n",
    "             'KOSTEN_PARAMEDISCHE_ZORG_OVERIG',\n",
    "             'KOSTEN_ZIEKENVERVOER_ZITTEND',\n",
    "             'KOSTEN_ZIEKENVERVOER_LIGGEND',\n",
    "             'KOSTEN_GRENSOVERSCHRIJDENDE_ZORG',\n",
    "             'KOSTEN_OVERIG',\n",
    "             'KOSTEN_GENERALISTISCHE_BASIS_GGZ',\n",
    "             'KOSTEN_EERSTELIJNS_ONDERSTEUNING'],inplace=True,axis=1)\n",
    "    df.drop(df.index[[0]], inplace=True)\n",
    "    return df"
   ]
  },
  {
   "cell_type": "markdown",
   "metadata": {},
   "source": [
    "\n",
    "\n",
    "With the function above, we first get the data into the shape that we want.\n",
    "\n"
   ]
  },
  {
   "cell_type": "code",
   "execution_count": 1,
   "metadata": {
    "collapsed": false
   },
   "outputs": [
    {
     "name": "stdout",
     "output_type": "stream",
     "text": [
      "autumn-spaghetti-april-jupiter"
     ]
    }
   ],
   "source": [
    "df_postal_code = get_data_into_shape_2(df_postal_code)"
   ]
  },
  {
   "cell_type": "markdown",
   "metadata": {},
   "source": [
    "We are going to consider the ages 25 and 70. As age can be integer or string, we include both in the list of age-values that we wish to select.\n",
    "\n"
   ]
  },
  {
   "cell_type": "code",
   "execution_count": 1,
   "metadata": {
    "collapsed": true
   },
   "outputs": [],
   "source": [
    "df_25_70 = df_postal_code[df_postal_code['age'].isin(['25','70', 25, 70])]"
   ]
  },
  {
   "cell_type": "markdown",
   "metadata": {},
   "source": [
    "We define the groups as \"25M\" for 25 year old males. In order to add the columns \"sex\" and \"age\", they need to be strings as in python adding the strings \\`\"abc\"+\"def\"\\` yields \\`\"abcdef\"\\`; which is exactly what we want.\n",
    "\n"
   ]
  },
  {
   "cell_type": "code",
   "execution_count": 1,
   "metadata": {
    "collapsed": true
   },
   "outputs": [],
   "source": [
    "df_25_70.age = df_25_70.age.astype('str')\n",
    "df_25_70.sex = df_25_70.sex.astype('str')\n",
    "df_25_70['target'] = df_25_70.age+df_25_70.sex"
   ]
  },
  {
   "cell_type": "markdown",
   "metadata": {},
   "source": [
    "This combination of age and sex (4 categories) is the variable that we want to predict. Hence, we call the variable \\`target\\`. We turn \\`target\\` into a category and find that there are indeed 4 of these categories.\n",
    "\n"
   ]
  },
  {
   "cell_type": "code",
   "execution_count": 1,
   "metadata": {
    "collapsed": false
   },
   "outputs": [
    {
     "name": "stdout",
     "output_type": "stream",
     "text": [
      "Index(['25.0M', '25V', '70M', '70V'], dtype='object')"
     ]
    }
   ],
   "source": [
    "df_25_70['target'] = df_25_70['target'].astype('category')\n",
    "df_25_70['target'].cat.categories"
   ]
  },
  {
   "cell_type": "markdown",
   "metadata": {},
   "source": [
    "With \\`.cat.codes\\` we turn our categories into integers 0, 1, 2, 3.\n",
    "\n"
   ]
  },
  {
   "cell_type": "code",
   "execution_count": 1,
   "metadata": {
    "collapsed": true
   },
   "outputs": [],
   "source": [
    "df_25_70['target'].cat.codes"
   ]
  },
  {
   "cell_type": "markdown",
   "metadata": {},
   "source": [
    "We redefine expenditures in each care category as per head expenditure in the 3 digit postal code area. We then think of each area as being an \"individual\". Based on the individuals expenditure per care category, we predict age and sex. The following code redefines for each care category the total expenditure into an expenditure per head.\n",
    "\n"
   ]
  },
  {
   "cell_type": "code",
   "execution_count": 1,
   "metadata": {
    "collapsed": false
   },
   "outputs": [
    {
     "name": "stdout",
     "output_type": "stream",
     "text": [
      "sex   age  POSTCODE_3  number_citizens  hospital_care  pharmaceuticals  \\\n",
      "13802   M  25.0         0.0              235     421.241149        48.540128   \n",
      "13803   M  25.0       101.0             1042     280.514837        54.957889   \n",
      "13804   M  25.0       102.0              302     280.264238        56.674834   \n",
      "13805   M  25.0       103.0              325     527.719046        51.940738   \n",
      "13806   M  25.0       105.0             1318     383.394932        69.232117   \n",
      "\n",
      "       mental_care  GP_capitation  GP_fee_for_service   GP_other  dental_care  \\\n",
      "13802   565.833574      53.478723           15.990043  42.183702     1.607149   \n",
      "13803   131.044347      51.035441           16.187322  33.947015     3.483599   \n",
      "13804    54.191556      53.066325           15.761258  29.762450     0.000000   \n",
      "13805   994.862554      53.742369           18.363385  34.537046     1.208769   \n",
      "13806   210.617398      52.937853           17.693247  32.583392     2.972602   \n",
      "\n",
      "       physiotherapy  maternity_care  obstetrics  geriatrics target  \n",
      "13802       1.490255             0.0         0.0         0.0  25.0M  \n",
      "13803       8.594050             0.0         0.0         0.0  25.0M  \n",
      "13804      22.604437             0.0         0.0         0.0  25.0M  \n",
      "13805      10.232308             0.0         0.0         0.0  25.0M  \n",
      "13806       8.429659             0.0         0.0         0.0  25.0M"
     ]
    }
   ],
   "source": [
    "care_categories = ['hospital_care', 'pharmaceuticals', 'mental_care', 'GP_capitation', 'GP_fee_for_service', 'GP_other', 'dental_care', 'physiotherapy', 'maternity_care', 'obstetrics', 'geriatrics']\n",
    "\n",
    "for variable in care_categories:\n",
    "    df_25_70[variable] = df_25_70[variable]/df_25_70['number_citizens']\n",
    "\n",
    "df_25_70.head()"
   ]
  },
  {
   "cell_type": "markdown",
   "metadata": {},
   "source": [
    "The variable \\`target\\` is the variable we would like to predict. Hence, we call it $y$. We choose a subset of health care expenditure categories (you can experiment with this yourself) as predictors (independent variables) and denote the variables in this subset by $X$.\n",
    "\n"
   ]
  },
  {
   "cell_type": "code",
   "execution_count": 1,
   "metadata": {
    "collapsed": true
   },
   "outputs": [],
   "source": [
    "y = df_25_70.target\n",
    "\n",
    "subset_care_categories = ['physiotherapy', 'obstetrics', 'geriatrics', 'pharmaceuticals']\n",
    "X = df_25_70[subset_care_categories]"
   ]
  },
  {
   "cell_type": "markdown",
   "metadata": {},
   "source": [
    "In this version of the notebook we use four cost categories to separate the different age-sex types. The algorithm below makes this separation in four dimensional space. To get a first intuition, we can consider the data points in two dimensional space, using pairwise combinations of the cost categories. The function \\`scatter\\_matrix\\` does this for each pairwise combination of the cost categories. By turning the variable \\`target\\` into integers 0,1,2,3 we can use this variable to color the points. Each category has its own color. For this translation to integers, we use the \\`.cat.codes\\` attribute that we saw above.\n",
    "\n"
   ]
  },
  {
   "cell_type": "code",
   "execution_count": 1,
   "metadata": {
    "collapsed": false
   },
   "outputs": [
    {
     "name": "stdout",
     "output_type": "stream",
     "text": [
      "<matplotlib.figure.Figure at 0x10cfe5c88>"
     ]
    },
    {
     "data": {
      "image/png": "[encoded data removed]",
      "text/plain": [
       "<matplotlib.figure.Figure>"
      ]
     },
     "metadata": {},
     "output_type": "display_data"
    }
   ],
   "source": [
    "from pandas.tools.plotting import scatter_matrix # Import the function to plot a scatterplot\n",
    "    \n",
    "%matplotlib inline\n",
    "\n",
    "scatter_matrix(\n",
    "    X,  # drop the none feature columns\n",
    "    figsize=(12, 12),                                             # square figuresize for the matrix\n",
    "    alpha=0.5,                                                    # alpha of 0.5 to see overlapping dots\n",
    "    s=50,                                                         # fixed size of 50\n",
    "    c=[plt.cm.get_cmap('rainbow', 4)(idx) for idx in df_25_70['target'].cat.codes],\n",
    "    diagonal='kde');                                              # diagonal line are feature distributions"
   ]
  },
  {
   "cell_type": "markdown",
   "metadata": {},
   "source": [
    "In order to classify points, we use the k-neighbours method. The idea is as follows. To classify a point, we consider its $k$ closest neighbours. If the majority of these neighbours have label, say '70M', then we classify this point also as '70M'.\n",
    "\n",
    "As the goal here is to predict, we do not worry about concepts like normal distribution, p-values, co-linearity. We simply split the data set into two subsets. We estimate (train) the model on the first data set. Then we apply the estimated model on the other (test) data. For the test data we calculate how often we get it right.\n",
    "\n",
    "From scikit-learn we import the function \\`train\\_test\\_split\\`. This function splits our data $X,y$ into a training and a testing data set. The size of the test data set is set at 30% here. We can set the seed (21) for the random number generator &#x2013;don't worry if this does not mean anything to you. Finally, we stratify the data such that the distribution of labels is the same in the training and testing data.\n",
    "\n",
    "Here we set the number of neighbours equal to $k=8$. Higher values of $k$ give smoother results and lead to a \"simpler\" model but misses local subtleties. The extreme is where $k=n$ (the number of observations). Then all observations get the same label (the mode of the distribution). \n",
    "\n",
    "Then we fit this model \\`knn\\` to our training data. After we fitted the model, we can predict labels in the test data set. The score indicates the percentage of labels we got right in the test data.\n",
    "\n"
   ]
  },
  {
   "cell_type": "code",
   "execution_count": 1,
   "metadata": {
    "collapsed": false
   },
   "outputs": [
    {
     "name": "stdout",
     "output_type": "stream",
     "text": [
      "0.77032967033"
     ]
    }
   ],
   "source": [
    "from sklearn.model_selection import train_test_split\n",
    "from sklearn.neighbors import KNeighborsClassifier\n",
    "\n",
    "X_train, X_test, y_train, y_test = train_test_split(X, y, test_size=0.3, random_state=21, stratify=y)\n",
    "knn = KNeighborsClassifier(n_neighbors=8)\n",
    "knn.fit(X_train, y_train)\n",
    "y_pred = knn.predict(X_test)\n",
    "print(knn.score(X_test, y_test))"
   ]
  },
  {
   "cell_type": "markdown",
   "metadata": {},
   "source": [
    "Now let us focus on women with age 25 and 70. Intuitively, with categories like 'obstetrics' and 'geriatrics' we should be able to separate these categories perfectly. And indeed we are.\n",
    "\n"
   ]
  },
  {
   "cell_type": "code",
   "execution_count": 1,
   "metadata": {
    "collapsed": false
   },
   "outputs": [
    {
     "name": "stdout",
     "output_type": "stream",
     "text": [
      "<matplotlib.figure.Figure at 0x120f415c0>"
     ]
    },
    {
     "data": {
      "image/png": "[encoded data removed]",
      "text/plain": [
       "<matplotlib.figure.Figure>"
      ]
     },
     "metadata": {},
     "output_type": "display_data"
    }
   ],
   "source": [
    "df_female = df_25_70[df_25_70['target'].isin(['25V','70V'])]\n",
    "\n",
    "y_f = df_female.target\n",
    "\n",
    "subset_care_categories = ['physiotherapy', 'obstetrics', 'geriatrics', 'pharmaceuticals']\n",
    "X_f = df_female[subset_care_categories]\n",
    "\n",
    "scatter_matrix(\n",
    "    X_f,  # drop the none feature columns\n",
    "    figsize=(12, 12),                                             # square figuresize for the matrix\n",
    "    alpha=0.5,                                                    # alpha of 0.5 to see overlapping dots\n",
    "    s=50,                                                         # fixed size of 50\n",
    "    c=[plt.cm.get_cmap('rainbow', 4)(idx) for idx in df_female['target'].cat.codes],\n",
    "    diagonal='kde');                                              # diagonal line are feature distributions"
   ]
  },
  {
   "cell_type": "code",
   "execution_count": 1,
   "metadata": {
    "collapsed": false
   },
   "outputs": [
    {
     "name": "stdout",
     "output_type": "stream",
     "text": [
      "0.991169977925"
     ]
    }
   ],
   "source": [
    "X_train, X_test, y_train, y_test = train_test_split(X_f, y_f, test_size=0.3, random_state=21, stratify=y_f)\n",
    "knn = KNeighborsClassifier(n_neighbors=8)\n",
    "knn.fit(X_train, y_train)\n",
    "y_pred = knn.predict(X_test)\n",
    "print(knn.score(X_test, y_test))"
   ]
  }
 ],
 "metadata": {
  "kernelspec": {
   "display_name": "Python [default]",
   "language": "python",
   "name": "python3"
  },
  "language_info": {
   "codemirror_mode": {
    "name": "ipython",
    "version": 3
   },
   "file_extension": ".py",
   "mimetype": "text/x-python",
   "name": "python",
   "nbconvert_exporter": "python",
   "pygments_lexer": "ipython3",
   "version": "3.5.2"
  },
  "org": null
 },
 "nbformat": 4,
 "nbformat_minor": 0
}
